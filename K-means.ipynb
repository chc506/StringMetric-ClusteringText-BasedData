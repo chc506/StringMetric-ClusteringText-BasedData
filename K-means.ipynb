{
 "cells": [
  {
   "cell_type": "code",
   "execution_count": 1,
   "metadata": {},
   "outputs": [
    {
     "name": "stderr",
     "output_type": "stream",
     "text": [
      "C:\\ProgramData\\Anaconda3\\lib\\site-packages\\gensim\\utils.py:860: UserWarning: detected Windows; aliasing chunkize to chunkize_serial\n",
      "  warnings.warn(\"detected Windows; aliasing chunkize to chunkize_serial\")\n"
     ]
    }
   ],
   "source": [
    "from __future__ import print_function\n",
    "from sklearn.metrics.pairwise import cosine_similarity\n",
    "from nltk.tokenize import RegexpTokenizer  \n",
    "from stop_words import get_stop_words  \n",
    "from nltk.stem.porter import PorterStemmer  \n",
    "from gensim import corpora, models  \n",
    "import gensim  \n",
    "import numpy as np\n",
    "import matplotlib.pyplot as plt\n",
    "import matplotlib as mpl\n",
    "from sklearn.manifold import MDS\n",
    "from sklearn.cluster import KMeans\n"
   ]
  },
  {
   "cell_type": "code",
   "execution_count": 2,
   "metadata": {
    "collapsed": true
   },
   "outputs": [],
   "source": [
    "num_clusters = 5;\n",
    "num_words=5;\n",
    "remove_word_list=['mm'];\n"
   ]
  },
  {
   "cell_type": "code",
   "execution_count": 3,
   "metadata": {
    "collapsed": true
   },
   "outputs": [],
   "source": [
    "doc_set=[]\n",
    "fd= open( \"data.txt\", \"r\" )    \n",
    "for line in fd.readlines():      \n",
    "    doc_set.append(line)"
   ]
  },
  {
   "cell_type": "code",
   "execution_count": 4,
   "metadata": {
    "collapsed": true
   },
   "outputs": [],
   "source": [
    "tokenizer = RegexpTokenizer(r'\\w+')  \n",
    "\n",
    "# create English stop words list  \n",
    "en_stop = get_stop_words('en') \n",
    "\n",
    "  \n",
    "# Create p_stemmer of class PorterStemmer  \n",
    "p_stemmer = PorterStemmer()  \n"
   ]
  },
  {
   "cell_type": "code",
   "execution_count": 5,
   "metadata": {
    "collapsed": true
   },
   "outputs": [],
   "source": [
    "# list for tokenized documents in loop  \n",
    "texts = []  \n",
    "  \n",
    "# loop through document list  \n",
    "for i in doc_set:  \n",
    "      \n",
    "    \n",
    "    # clean and tokenize document string  \n",
    "    raw = i.lower()  \n",
    "    tokens = tokenizer.tokenize(raw)  \n",
    "  \n",
    "    \n",
    "    # remove stop words from tokens  \n",
    "    stopped_tokens = [temp for temp in tokens if not temp in en_stop]  \n",
    "      \n",
    "    \n",
    "    # stem tokens  \n",
    "    #stemmed_tokens = [p_stemmer.stem(temp) for temp in stopped_tokens]  \n",
    "      \n",
    "    \n",
    "    # remove digits\n",
    "    no_digit= [temp for temp in stopped_tokens if not temp.isdigit()];\n",
    "    \n",
    "    # remove single word\n",
    "    no_single=[temp for temp in no_digit if not (len(temp)==1)];\n",
    "    \n",
    "    # remove words if contain elements in remove_word_list\n",
    "    remove_word=[temp for temp in no_single if not temp in remove_word_list];\n",
    "    \n",
    "    # add tokens to list  \n",
    "    texts.append(remove_word)  "
   ]
  },
  {
   "cell_type": "code",
   "execution_count": 6,
   "metadata": {
    "collapsed": true
   },
   "outputs": [],
   "source": [
    "# turn our tokenized documents into a id <-> term dictionary  \n",
    "dictionary = corpora.Dictionary(texts)  \n",
    "\n",
    "#print(dictionary.token2id) \n",
    "def invert_dict(d):  \n",
    "    return dict((v,k) for k,v in d.items())  \n",
    "dictionary_index_word=invert_dict(dictionary.token2id);\n",
    "\n",
    "\n",
    "# convert tokenized documents into a document-term matrix  \n",
    "corpus = [dictionary.doc2bow(text) for text in texts]  \n",
    "\n",
    "\n",
    "tfidf = models.TfidfModel(corpus) # -- initialize a model\n",
    "\n",
    "corpus_tfidf_list=[];\n",
    "corpus_tfidf = tfidf[corpus]\n",
    "for doc in corpus_tfidf:\n",
    "    corpus_tfidf_list.append(doc);\n",
    "\n",
    "\n",
    "numpy_matrix = gensim.matutils.corpus2dense(corpus_tfidf, num_terms=len(dictionary));\n",
    "\n",
    "\n",
    "numpy_matrix=numpy_matrix.T;"
   ]
  },
  {
   "cell_type": "code",
   "execution_count": 7,
   "metadata": {
    "collapsed": true
   },
   "outputs": [],
   "source": [
    "km = KMeans(n_clusters=num_clusters);\n",
    "\n",
    "km.fit(numpy_matrix);\n",
    "\n",
    "clusters = km.labels_.tolist();"
   ]
  },
  {
   "cell_type": "code",
   "execution_count": 8,
   "metadata": {},
   "outputs": [
    {
     "name": "stdout",
     "output_type": "stream",
     "text": [
      "Top terms per cluster:\n",
      "\n",
      "Cluster 0 words: accent, style, highlighters, fluorescent, yellow,\n",
      "\n",
      "Cluster 1 words: set, assorted, color, chisel, quantity,\n",
      "\n",
      "Cluster 2 words: office, depot, sanford, pack, colors,\n",
      "\n",
      "Cluster 3 words: marker, tip, black, fine, extra,\n",
      "\n",
      "Cluster 4 words: point, fine, markers, ultra, ink,\n",
      "\n"
     ]
    }
   ],
   "source": [
    "print(\"Top terms per cluster:\")\n",
    "print()\n",
    "centroids = km.cluster_centers_;\n",
    "temp_centroids=centroids.copy();\n",
    "\n",
    "for i in range(num_clusters):\n",
    "    print(\"Cluster %d words:\" % i, end='');\n",
    "    \n",
    "    for word_index in range(num_words):\n",
    "        temp=np.argmax(temp_centroids[i]);\n",
    "        temp_centroids[i][temp]=np.min(centroids[0])-10;\n",
    "        print(' %s' % dictionary_index_word[temp], end=',');\n",
    "    \n",
    "    \n",
    "   \n",
    "    print() #add whitespace\n",
    "    print() #add whitespace"
   ]
  },
  {
   "cell_type": "code",
   "execution_count": 10,
   "metadata": {},
   "outputs": [
    {
     "data": {
      "image/png": "[encoded data removed]",
      "text/plain": [
       "<matplotlib.figure.Figure at 0x203f7b37550>"
      ]
     },
     "metadata": {},
     "output_type": "display_data"
    }
   ],
   "source": [
    "dist = 1 - cosine_similarity(numpy_matrix);\n",
    "\n",
    "\n",
    "mds = MDS(n_components=2, dissimilarity=\"precomputed\", random_state=1);\n",
    "pos = mds.fit_transform(dist);\n",
    "xs, ys = pos[:, 0], pos[:, 1];\n",
    "\n",
    "\n",
    "\n",
    "cmap = plt.cm.get_cmap(\"hsv\", num_clusters+1);\n",
    "\n",
    "color_list=[];\n",
    "for index in range(num_clusters):\n",
    "    color_list.append(cmap(index));\n",
    "\n",
    "for index in range(len(corpus)):\n",
    "    plt.scatter(xs[index], ys[index] ,alpha=0.5,color=color_list[clusters[index]])\n",
    "plt.show()"
   ]
  },
  {
   "cell_type": "code",
   "execution_count": null,
   "metadata": {
    "collapsed": true
   },
   "outputs": [],
   "source": []
  }
 ],
 "metadata": {
  "kernelspec": {
   "display_name": "Python 3",
   "language": "python",
   "name": "python3"
  },
  "language_info": {
   "codemirror_mode": {
    "name": "ipython",
    "version": 3
   },
   "file_extension": ".py",
   "mimetype": "text/x-python",
   "name": "python",
   "nbconvert_exporter": "python",
   "pygments_lexer": "ipython3",
   "version": "3.6.3"
  }
 },
 "nbformat": 4,
 "nbformat_minor": 2
}
